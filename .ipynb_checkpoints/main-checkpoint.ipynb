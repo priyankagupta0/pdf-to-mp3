{
 "cells": [
  {
   "cell_type": "markdown",
   "id": "cb3185ee-2953-4ebf-8071-5081c437f32e",
   "metadata": {},
   "source": [
    "# PDF to MP3\n",
    "\n",
    "Converting a PDF to an MP3 file is a multi-step process that involves text extraction from the PDF and then converting the extracted text into speech using a text-to-speech (TTS) library. Here's an example of how you can create a Python project to convert a PDF to MP3 using the PyPDF2 library for PDF text extraction and the gTTS library for text-to-speech conversion. "
   ]
  },
  {
   "cell_type": "code",
   "execution_count": 2,
   "id": "b9648e13-727b-44e4-874c-cb4993b810ef",
   "metadata": {},
   "outputs": [],
   "source": [
    "import PyPDF2\n",
    "from gtts import gTTS"
   ]
  },
  {
   "cell_type": "code",
   "execution_count": 3,
   "id": "3513f5e4-40c7-400f-a5a7-af52a5be56d8",
   "metadata": {},
   "outputs": [],
   "source": [
    "f = open( 'Unveiling the Magic of Onomatopoeia Oxymoron and Satire.pdf', 'rb') #mode is read binary\n",
    "pdf_reader = PyPDF2.PdfReader(f)\n",
    "\n",
    "# or could do\n",
    "# with open('Unveiling the Magic of Onomatopoeia Oxymoron and Satire.pdf', 'rb') as f:\n",
    "#     pdf_reader = PyPDF2.PdfReader(f)"
   ]
  },
  {
   "cell_type": "code",
   "execution_count": 4,
   "id": "1fe7946f-16fd-4534-a1c4-32abd005c4ec",
   "metadata": {},
   "outputs": [
    {
     "data": {
      "text/plain": [
       "4"
      ]
     },
     "execution_count": 4,
     "metadata": {},
     "output_type": "execute_result"
    }
   ],
   "source": [
    "len(pdf_reader.pages)"
   ]
  },
  {
   "cell_type": "code",
   "execution_count": 5,
   "id": "6c0f40fd-bf95-4e8f-92d5-e21f01a8a1e4",
   "metadata": {},
   "outputs": [
    {
     "name": "stdout",
     "output_type": "stream",
     "text": [
      "{'/Type': '/Page', '/Parent': IndirectObject(2, 0, 2392572365168), '/Resources': {'/Font': {'/F3': IndirectObject(14, 0, 2392572365168), '/F2': IndirectObject(12, 0, 2392572365168)}, '/ExtGState': {'/GS10': IndirectObject(10, 0, 2392572365168), '/GS11': IndirectObject(11, 0, 2392572365168)}, '/ProcSet': ['/PDF', '/Text', '/ImageB', '/ImageC', '/ImageI']}, '/Annots': [IndirectObject(26, 0, 2392572365168), IndirectObject(27, 0, 2392572365168), IndirectObject(28, 0, 2392572365168), IndirectObject(29, 0, 2392572365168), IndirectObject(30, 0, 2392572365168), IndirectObject(31, 0, 2392572365168), IndirectObject(32, 0, 2392572365168)], '/MediaBox': [0, 0, 612, 792], '/Contents': IndirectObject(25, 0, 2392572365168), '/Group': {'/Type': '/Group', '/S': '/Transparency', '/CS': '/DeviceRGB'}, '/Tabs': '/S', '/StructParents': 6}\n"
     ]
    }
   ],
   "source": [
    "all_pages = []\n",
    "for page_num in range(len(pdf_reader.pages)):\n",
    "    page = pdf_reader.pages[page_num]\n",
    "    all_pages.append(page)\n",
    "print(all_pages[3])"
   ]
  },
  {
   "cell_type": "code",
   "execution_count": 7,
   "id": "9c5eba8a-76ab-459d-aa5a-d8d04b09c689",
   "metadata": {},
   "outputs": [
    {
     "name": "stdout",
     "output_type": "stream",
     "text": [
      "Onomatopoeia: The Magic of Sound  \n",
      "Onomatopoeia is a literary device that imitates or s uggests the natural sounds associated with \n",
      "objects, actions, or phenomena.  \n",
      "It adds an auditory dimension to written language, allowing readers to hear and experience the \n",
      "sounds described.  \n",
      "Examples of  onomatopoeia  include words like \"buzz,\" \"hiss,\" \"crash,\" and \"sizzle.\"  \n",
      "By using onomatopoeia, writers can enhance the sensory experience of their readers, making \n",
      "their narratives more engaging and vivid.  \n",
      "From comic books to poetry, o nomatopoeia finds its way into various forms of literature, giving \n",
      "life and resonance to the written word.  \n",
      " \n",
      "Oxymoron: The Art of Contrast  \n",
      "Oxymoron  is a literary device that combine s contradictory or incongruous terms to create a \n",
      "striking effect. It brings together words or phrases that seemingly contradict each other, yet, \n",
      "when used purposefully, they can convey deeper meanings and highlight paradoxes.  \n",
      "Examples of oxymorons include \"bittersweet,\" \"jumbo shrimp,\" and \"living dead.\" By employing \n",
      "oxymorons, writers can add complexity, depth, and intrigue to their work.  \n",
      "It challenges readers to think beyond conventional wisdom and embrace the contradictions \n",
      "that exist within the human ex perience.  \n",
      " \n",
      "Satire: The Weapon of Wit  \n",
      "Satire is a form of writing that uses humor, irony, or ridicule to critique or expose human follies, \n",
      "vices, or shortcomings.  \n",
      "It serves as a powerful tool for social commentary, employing a blend of wit and sarcasm to \n",
      "provoke thought and reflection.  \n",
      "Satire  can take various forms, such as novels, plays, poems, or even cartoons, and it often \n",
      "employs exaggeration or parody to make its point.  \n"
     ]
    }
   ],
   "source": [
    "print(all_pages[1].extract_text())"
   ]
  },
  {
   "cell_type": "code",
   "execution_count": 10,
   "id": "2e501e5f-8ff6-462d-b938-9d9dc3a2044a",
   "metadata": {},
   "outputs": [
    {
     "name": "stdout",
     "output_type": "stream",
     "text": [
      "\n",
      "\n"
     ]
    }
   ],
   "source": [
    "# extract only upright text. \n",
    "# Scanned documents can have text at various angles due to scanning, and PDFs might intentionally rotate or arrange text unconventionally for design or layout.\n",
    "# Choosing \"upright text\" extraction prioritizes the standard vertical orientation, excluding rotated or skewed text. This enhances extraction accuracy and captures only normally readable text.\n",
    "print(all_pages[1].extract_text(1))\n",
    "\n",
    "# It indicates that text with orientations from 1 degree to 3 degrees from the upright position should be extracted.\n",
    "print(page.extract_text((1, 3)))"
   ]
  },
  {
   "cell_type": "markdown",
   "id": "0e3cd657-ae99-43e7-9cd7-c3e77a01ce9a",
   "metadata": {},
   "source": [
    "no texts were printed above"
   ]
  },
  {
   "cell_type": "code",
   "execution_count": null,
   "id": "8643cd38-b223-4ccb-89e7-eb783f6f07f4",
   "metadata": {},
   "outputs": [],
   "source": []
  }
 ],
 "metadata": {
  "kernelspec": {
   "display_name": "Python 3 (ipykernel)",
   "language": "python",
   "name": "python3"
  },
  "language_info": {
   "codemirror_mode": {
    "name": "ipython",
    "version": 3
   },
   "file_extension": ".py",
   "mimetype": "text/x-python",
   "name": "python",
   "nbconvert_exporter": "python",
   "pygments_lexer": "ipython3",
   "version": "3.10.5"
  }
 },
 "nbformat": 4,
 "nbformat_minor": 5
}
